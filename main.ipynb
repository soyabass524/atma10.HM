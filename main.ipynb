{
 "cells": [
  {
   "cell_type": "code",
   "execution_count": 14,
   "metadata": {},
   "outputs": [],
   "source": [
    "import pandas as pd\n",
    "import numpy as np\n",
    "import matplotlib.pyplot as plt\n",
    "import random\n",
    "import os\n",
    "from tqdm import tqdm_notebook as tqdm\n",
    "from sklearn.preprocessing import LabelEncoder\n",
    "from sklearn.model_selection import KFold\n",
    "from sklearn.metrics import mean_squared_error\n",
    "import lightgbm as lgb\n",
    "%matplotlib inline\n",
    "pd.set_option('display.max_columns', 300)"
   ]
  },
  {
   "cell_type": "code",
   "execution_count": 15,
   "metadata": {},
   "outputs": [],
   "source": [
    "TRAIN_PATH = \"train.csv\"\n",
    "TEST_PATH = \"test.csv\"\n",
    "SUB_PATH = \"atmacup10__sample_submission.csv\""
   ]
  },
  {
   "cell_type": "code",
   "execution_count": 16,
   "metadata": {},
   "outputs": [],
   "source": [
    "SEED = 0\n",
    "N_SPLITS = 5\n",
    "SHUFFLE = True\n",
    "LGBM_PARAMS = {'num_leaves': 32,\n",
    "               'min_data_in_leaf': 64,\n",
    "               'objective': 'regression',\n",
    "               'max_depth': -1,\n",
    "               'learning_rate': 0.05,\n",
    "               \"boosting\": \"gbdt\",\n",
    "               \"bagging_freq\": 1,\n",
    "               \"bagging_fraction\": 0.8,\n",
    "               \"bagging_seed\": SEED,\n",
    "               \"verbosity\": -1,\n",
    "              'reg_alpha': 0.1,\n",
    "              'reg_lambda': 0.3,\n",
    "              'colsample_bytree': 0.7,\n",
    "              'metric':\"rmse\",\n",
    "              'num_threads':6,\n",
    "         }\n",
    "\n",
    "LGBM_FIT_PARAMS = {\n",
    "    'num_boost_round': 10000,\n",
    "    'early_stopping_rounds': 200,\n",
    "    'verbose_eval': 200,\n",
    "}\n",
    "\n",
    "SAVE_TEST_SUB_PATH = \"lgb_baseline.csv\""
   ]
  },
  {
   "cell_type": "code",
   "execution_count": 17,
   "metadata": {},
   "outputs": [],
   "source": [
    "def train_lgbm(X_train, y_train, X_valid, y_valid, X_test, categorical_features, feature_name, fold_id,lgb_params, fit_params, loss_func, calc_importances=True):\n",
    "\n",
    "    train = lgb.Dataset(X_train, y_train,\n",
    "                        categorical_feature=categorical_features,\n",
    "                        feature_name=feature_name)\n",
    "    if X_valid is not None:\n",
    "        valid = lgb.Dataset(X_valid, y_valid,\n",
    "                            categorical_feature=categorical_features,\n",
    "                            feature_name=feature_name)\n",
    "\n",
    "    if X_valid is not None:\n",
    "        model = lgb.train(\n",
    "            lgb_params,\n",
    "            train,\n",
    "            valid_sets=[train,valid],\n",
    "            **fit_params\n",
    "        )\n",
    "    else:\n",
    "        model = lgb.train(\n",
    "            lgb_params,\n",
    "            train,\n",
    "            **fit_params\n",
    "        )\n",
    "\n",
    "    # train score\n",
    "    if X_valid is not None:\n",
    "        y_pred_valid = model.predict(X_valid)\n",
    "        valid_loss = loss_func(y_valid, y_pred_valid)\n",
    "    else:\n",
    "        y_pred_valid = None\n",
    "        valid_loss = None\n",
    "\n",
    "    #test\n",
    "    if X_test is not None:\n",
    "        y_pred_test = model.predict(X_test)\n",
    "    else:\n",
    "        y_pred_test = None\n",
    "\n",
    "    if calc_importances:\n",
    "        importances = pd.DataFrame()\n",
    "        importances['feature'] = feature_name\n",
    "        importances['gain'] = model.feature_importance(importance_type='gain')\n",
    "        importances['split'] = model.feature_importance(importance_type='split')\n",
    "        importances['fold'] = fold_id\n",
    "    else:\n",
    "        importances = None\n",
    "\n",
    "    return y_pred_valid, y_pred_test, valid_loss, importances, model.best_iteration\n",
    "\n",
    "def calc_loss(y_true, y_pred):\n",
    "    return  np.sqrt(mean_squared_error(y_true, y_pred))"
   ]
  },
  {
   "cell_type": "code",
   "execution_count": 18,
   "metadata": {},
   "outputs": [],
   "source": [
    "train = pd.read_csv(TRAIN_PATH)\n",
    "test = pd.read_csv(TEST_PATH)\n",
    "len_train = len(train)\n",
    "y = np.log1p(train[\"likes\"])"
   ]
  },
  {
   "cell_type": "code",
   "execution_count": 19,
   "metadata": {},
   "outputs": [],
   "source": [
    "#使えそうな数値データと、カテゴリデータ\n",
    "cols = ['principal_maker', 'principal_or_first_maker',\n",
    "        'copyright_holder','acquisition_method',\n",
    "       'acquisition_credit_line', \n",
    "       'dating_period', 'dating_year_early',\n",
    "       'dating_year_late']\n",
    "#カテゴリデータ\n",
    "cat_cols = ['principal_maker', 'principal_or_first_maker','copyright_holder','acquisition_method','acquisition_credit_line']"
   ]
  },
  {
   "cell_type": "code",
   "execution_count": 20,
   "metadata": {},
   "outputs": [
    {
     "data": {
      "text/plain": [
       "2            Tresling & Comp.\n",
       "3            Bernard te Gempt\n",
       "23               Jan van Gool\n",
       "31        Jacob van Nieulandt\n",
       "36          A. Cucumus & Cie.\n",
       "                 ...         \n",
       "11964              P. Bertoja\n",
       "11998          Panhard Frères\n",
       "12011          Franz Weisbrod\n",
       "12016    David Ryckaert (III)\n",
       "12025      Bartolommeo Suardi\n",
       "Name: principal_maker, Length: 1336, dtype: object"
      ]
     },
     "execution_count": 20,
     "metadata": {},
     "output_type": "execute_result"
    }
   ],
   "source": [
    "#カテゴリデータにおいて、trainにあってtestにない。testにあってtrainにない。ものはnan的な？\n",
    "train.loc[~train['principal_maker'].isin(test['principal_maker'].unique()),'principal_maker']"
   ]
  },
  {
   "cell_type": "code",
   "execution_count": 21,
   "metadata": {},
   "outputs": [],
   "source": [
    "#カテゴリデータにおいて、trainにあってtestにない。testにあってtrainにない。ものはnan的な？\n",
    "for c in cat_cols:\n",
    "    train.loc[~train[c].isin(test[c].unique()),c] = np.nan\n",
    "    test.loc[~test[c].isin(train[c].unique()),c] = np.nan\n",
    "train = pd.concat([train[cols],test[cols]]).reset_index(drop=True)"
   ]
  },
  {
   "cell_type": "code",
   "execution_count": null,
   "metadata": {},
   "outputs": [],
   "source": []
  },
  {
   "cell_type": "code",
   "execution_count": 22,
   "metadata": {},
   "outputs": [
    {
     "data": {
      "text/plain": [
       "Series([], Name: principal_maker, dtype: object)"
      ]
     },
     "execution_count": 22,
     "metadata": {},
     "output_type": "execute_result"
    }
   ],
   "source": [
    "train.loc[~train['principal_maker'].isin(test['principal_maker'].unique()),'principal_maker']"
   ]
  },
  {
   "cell_type": "code",
   "execution_count": 23,
   "metadata": {},
   "outputs": [],
   "source": [
    "#LabelEncoder(trainにtrainとtest入ってる)\n",
    "for c in cat_cols:\n",
    "    train[c] = train[c].astype(str)\n",
    "    le = LabelEncoder()\n",
    "    train[c] = le.fit_transform(train[c])"
   ]
  },
  {
   "cell_type": "code",
   "execution_count": 24,
   "metadata": {},
   "outputs": [],
   "source": [
    "#trainとtest再度分割\n",
    "test = train.iloc[len_train:].reset_index(drop=True)\n",
    "train = train.iloc[:len_train].reset_index(drop=True)"
   ]
  },
  {
   "cell_type": "code",
   "execution_count": 25,
   "metadata": {},
   "outputs": [
    {
     "name": "stdout",
     "output_type": "stream",
     "text": [
      "Fold 1\n",
      "Training until validation scores don't improve for 200 rounds\n"
     ]
    },
    {
     "name": "stderr",
     "output_type": "stream",
     "text": [
      "/opt/anaconda3/lib/python3.7/site-packages/lightgbm/basic.py:1551: UserWarning: Using categorical_feature in Dataset.\n",
      "  warnings.warn('Using categorical_feature in Dataset.')\n",
      "/opt/anaconda3/lib/python3.7/site-packages/lightgbm/basic.py:1286: UserWarning: Overriding the parameters from Reference Dataset.\n",
      "  warnings.warn('Overriding the parameters from Reference Dataset.')\n",
      "/opt/anaconda3/lib/python3.7/site-packages/lightgbm/basic.py:1098: UserWarning: categorical_column in param dict is overridden.\n",
      "  warnings.warn('{} in param dict is overridden.'.format(cat_alias))\n"
     ]
    },
    {
     "name": "stdout",
     "output_type": "stream",
     "text": [
      "[200]\ttraining's rmse: 1.16981\tvalid_1's rmse: 1.27985\n",
      "[400]\ttraining's rmse: 1.11508\tvalid_1's rmse: 1.27066\n",
      "[600]\ttraining's rmse: 1.08031\tvalid_1's rmse: 1.26899\n",
      "[800]\ttraining's rmse: 1.05506\tvalid_1's rmse: 1.26827\n",
      "[1000]\ttraining's rmse: 1.0341\tvalid_1's rmse: 1.26911\n",
      "Early stopping, best iteration is:\n",
      "[862]\ttraining's rmse: 1.04822\tvalid_1's rmse: 1.2678\n",
      "Fold 2\n",
      "Training until validation scores don't improve for 200 rounds\n"
     ]
    },
    {
     "name": "stderr",
     "output_type": "stream",
     "text": [
      "/opt/anaconda3/lib/python3.7/site-packages/lightgbm/basic.py:1551: UserWarning: Using categorical_feature in Dataset.\n",
      "  warnings.warn('Using categorical_feature in Dataset.')\n",
      "/opt/anaconda3/lib/python3.7/site-packages/lightgbm/basic.py:1286: UserWarning: Overriding the parameters from Reference Dataset.\n",
      "  warnings.warn('Overriding the parameters from Reference Dataset.')\n",
      "/opt/anaconda3/lib/python3.7/site-packages/lightgbm/basic.py:1098: UserWarning: categorical_column in param dict is overridden.\n",
      "  warnings.warn('{} in param dict is overridden.'.format(cat_alias))\n"
     ]
    },
    {
     "name": "stdout",
     "output_type": "stream",
     "text": [
      "[200]\ttraining's rmse: 1.17769\tvalid_1's rmse: 1.25464\n",
      "[400]\ttraining's rmse: 1.12491\tvalid_1's rmse: 1.23637\n",
      "[600]\ttraining's rmse: 1.09015\tvalid_1's rmse: 1.22929\n",
      "[800]\ttraining's rmse: 1.06426\tvalid_1's rmse: 1.22677\n",
      "[1000]\ttraining's rmse: 1.04302\tvalid_1's rmse: 1.22573\n",
      "[1200]\ttraining's rmse: 1.02574\tvalid_1's rmse: 1.22664\n",
      "Early stopping, best iteration is:\n",
      "[1149]\ttraining's rmse: 1.02984\tvalid_1's rmse: 1.22478\n",
      "Fold 3\n",
      "Training until validation scores don't improve for 200 rounds\n"
     ]
    },
    {
     "name": "stderr",
     "output_type": "stream",
     "text": [
      "/opt/anaconda3/lib/python3.7/site-packages/lightgbm/basic.py:1551: UserWarning: Using categorical_feature in Dataset.\n",
      "  warnings.warn('Using categorical_feature in Dataset.')\n",
      "/opt/anaconda3/lib/python3.7/site-packages/lightgbm/basic.py:1286: UserWarning: Overriding the parameters from Reference Dataset.\n",
      "  warnings.warn('Overriding the parameters from Reference Dataset.')\n",
      "/opt/anaconda3/lib/python3.7/site-packages/lightgbm/basic.py:1098: UserWarning: categorical_column in param dict is overridden.\n",
      "  warnings.warn('{} in param dict is overridden.'.format(cat_alias))\n"
     ]
    },
    {
     "name": "stdout",
     "output_type": "stream",
     "text": [
      "[200]\ttraining's rmse: 1.16875\tvalid_1's rmse: 1.31153\n",
      "[400]\ttraining's rmse: 1.11372\tvalid_1's rmse: 1.29784\n",
      "[600]\ttraining's rmse: 1.07835\tvalid_1's rmse: 1.2934\n",
      "[800]\ttraining's rmse: 1.05182\tvalid_1's rmse: 1.29231\n",
      "Early stopping, best iteration is:\n",
      "[693]\ttraining's rmse: 1.06506\tvalid_1's rmse: 1.29147\n",
      "Fold 4\n",
      "Training until validation scores don't improve for 200 rounds\n"
     ]
    },
    {
     "name": "stderr",
     "output_type": "stream",
     "text": [
      "/opt/anaconda3/lib/python3.7/site-packages/lightgbm/basic.py:1551: UserWarning: Using categorical_feature in Dataset.\n",
      "  warnings.warn('Using categorical_feature in Dataset.')\n",
      "/opt/anaconda3/lib/python3.7/site-packages/lightgbm/basic.py:1286: UserWarning: Overriding the parameters from Reference Dataset.\n",
      "  warnings.warn('Overriding the parameters from Reference Dataset.')\n",
      "/opt/anaconda3/lib/python3.7/site-packages/lightgbm/basic.py:1098: UserWarning: categorical_column in param dict is overridden.\n",
      "  warnings.warn('{} in param dict is overridden.'.format(cat_alias))\n"
     ]
    },
    {
     "name": "stdout",
     "output_type": "stream",
     "text": [
      "[200]\ttraining's rmse: 1.18134\tvalid_1's rmse: 1.25549\n",
      "[400]\ttraining's rmse: 1.12711\tvalid_1's rmse: 1.24433\n",
      "[600]\ttraining's rmse: 1.09314\tvalid_1's rmse: 1.23682\n",
      "[800]\ttraining's rmse: 1.06792\tvalid_1's rmse: 1.2325\n",
      "[1000]\ttraining's rmse: 1.04711\tvalid_1's rmse: 1.2317\n",
      "[1200]\ttraining's rmse: 1.02968\tvalid_1's rmse: 1.23094\n",
      "[1400]\ttraining's rmse: 1.01488\tvalid_1's rmse: 1.23165\n",
      "Early stopping, best iteration is:\n",
      "[1306]\ttraining's rmse: 1.02167\tvalid_1's rmse: 1.2301\n",
      "Fold 5\n",
      "Training until validation scores don't improve for 200 rounds\n"
     ]
    },
    {
     "name": "stderr",
     "output_type": "stream",
     "text": [
      "/opt/anaconda3/lib/python3.7/site-packages/lightgbm/basic.py:1551: UserWarning: Using categorical_feature in Dataset.\n",
      "  warnings.warn('Using categorical_feature in Dataset.')\n",
      "/opt/anaconda3/lib/python3.7/site-packages/lightgbm/basic.py:1286: UserWarning: Overriding the parameters from Reference Dataset.\n",
      "  warnings.warn('Overriding the parameters from Reference Dataset.')\n",
      "/opt/anaconda3/lib/python3.7/site-packages/lightgbm/basic.py:1098: UserWarning: categorical_column in param dict is overridden.\n",
      "  warnings.warn('{} in param dict is overridden.'.format(cat_alias))\n"
     ]
    },
    {
     "name": "stdout",
     "output_type": "stream",
     "text": [
      "[200]\ttraining's rmse: 1.1788\tvalid_1's rmse: 1.26279\n",
      "[400]\ttraining's rmse: 1.12356\tvalid_1's rmse: 1.24959\n",
      "[600]\ttraining's rmse: 1.0888\tvalid_1's rmse: 1.25017\n",
      "[800]\ttraining's rmse: 1.06217\tvalid_1's rmse: 1.25013\n",
      "Early stopping, best iteration is:\n",
      "[724]\ttraining's rmse: 1.07148\tvalid_1's rmse: 1.24853\n",
      "1.2527785580029036\n"
     ]
    }
   ],
   "source": [
    "kf = KFold(n_splits=N_SPLITS,random_state=SEED, shuffle=SHUFFLE)\n",
    "y_oof = np.empty([len(train),])\n",
    "y_test = []\n",
    "features = list(train.columns)\n",
    "drop_cols = []\n",
    "features = [i for i in features if i not in drop_cols]\n",
    "feature_importances = pd.DataFrame()\n",
    "categorical_features = [\"principal_maker\",\"principal_or_first_maker\"]\n",
    "for fold, (train_idx, valid_idx) in enumerate(kf.split(train,y)):\n",
    "    print('Fold {}'.format(fold + 1))\n",
    "    x_train, y_train = train.iloc[train_idx][features], y.iloc[train_idx]\n",
    "    x_val, y_val =train.iloc[valid_idx][features], y.iloc[valid_idx]\n",
    "\n",
    "    y_pred_valid, y_pred_test, valid_loss, importances, best_iter = train_lgbm(\n",
    "                x_train, y_train, x_val, y_val,test[features],\n",
    "                categorical_features=categorical_features,\n",
    "                feature_name=features,\n",
    "                fold_id=fold,\n",
    "                lgb_params=LGBM_PARAMS,\n",
    "                fit_params=LGBM_FIT_PARAMS,\n",
    "                loss_func=calc_loss,\n",
    "                calc_importances=True\n",
    "            )\n",
    "\n",
    "    y_oof[valid_idx] = y_pred_valid\n",
    "    score = calc_loss(y[valid_idx], y_pred_valid)\n",
    "    y_test.append(y_pred_test)\n",
    "    feature_importances = pd.concat([feature_importances, importances], axis=0, sort=False)\n",
    "\n",
    "score = calc_loss(y, y_oof)\n",
    "print(score)"
   ]
  },
  {
   "cell_type": "code",
   "execution_count": 26,
   "metadata": {},
   "outputs": [],
   "source": [
    "y_test_sub =  np.mean(y_test,axis=0)\n",
    "y_test_sub = np.expm1(y_test_sub)\n",
    "sub = pd.read_csv(SUB_PATH)\n",
    "sub[\"likes\"] = y_test_sub\n",
    "sub.loc[sub.likes <= 0,\"likes\"] = 0\n",
    "sub.to_csv(SAVE_TEST_SUB_PATH,index=False)"
   ]
  },
  {
   "cell_type": "code",
   "execution_count": 201,
   "metadata": {},
   "outputs": [
    {
     "data": {
      "text/html": [
       "<div>\n",
       "<style scoped>\n",
       "    .dataframe tbody tr th:only-of-type {\n",
       "        vertical-align: middle;\n",
       "    }\n",
       "\n",
       "    .dataframe tbody tr th {\n",
       "        vertical-align: top;\n",
       "    }\n",
       "\n",
       "    .dataframe thead th {\n",
       "        text-align: right;\n",
       "    }\n",
       "</style>\n",
       "<table border=\"1\" class=\"dataframe\">\n",
       "  <thead>\n",
       "    <tr style=\"text-align: right;\">\n",
       "      <th></th>\n",
       "      <th>feature</th>\n",
       "      <th>gain</th>\n",
       "      <th>split</th>\n",
       "      <th>fold</th>\n",
       "    </tr>\n",
       "  </thead>\n",
       "  <tbody>\n",
       "    <tr>\n",
       "      <th>6</th>\n",
       "      <td>dating_year_early</td>\n",
       "      <td>40774.598786</td>\n",
       "      <td>8081</td>\n",
       "      <td>0</td>\n",
       "    </tr>\n",
       "    <tr>\n",
       "      <th>7</th>\n",
       "      <td>dating_year_late</td>\n",
       "      <td>39068.425750</td>\n",
       "      <td>8247</td>\n",
       "      <td>0</td>\n",
       "    </tr>\n",
       "    <tr>\n",
       "      <th>3</th>\n",
       "      <td>acquisition_method</td>\n",
       "      <td>38901.493166</td>\n",
       "      <td>1947</td>\n",
       "      <td>0</td>\n",
       "    </tr>\n",
       "    <tr>\n",
       "      <th>0</th>\n",
       "      <td>principal_maker</td>\n",
       "      <td>33223.926020</td>\n",
       "      <td>2429</td>\n",
       "      <td>0</td>\n",
       "    </tr>\n",
       "    <tr>\n",
       "      <th>1</th>\n",
       "      <td>principal_or_first_maker</td>\n",
       "      <td>25979.397087</td>\n",
       "      <td>1754</td>\n",
       "      <td>0</td>\n",
       "    </tr>\n",
       "    <tr>\n",
       "      <th>4</th>\n",
       "      <td>acquisition_credit_line</td>\n",
       "      <td>22325.852270</td>\n",
       "      <td>3710</td>\n",
       "      <td>0</td>\n",
       "    </tr>\n",
       "    <tr>\n",
       "      <th>5</th>\n",
       "      <td>dating_period</td>\n",
       "      <td>2306.283311</td>\n",
       "      <td>491</td>\n",
       "      <td>0</td>\n",
       "    </tr>\n",
       "    <tr>\n",
       "      <th>2</th>\n",
       "      <td>copyright_holder</td>\n",
       "      <td>194.111334</td>\n",
       "      <td>63</td>\n",
       "      <td>0</td>\n",
       "    </tr>\n",
       "  </tbody>\n",
       "</table>\n",
       "</div>"
      ],
      "text/plain": [
       "                    feature          gain  split  fold\n",
       "6         dating_year_early  40774.598786   8081     0\n",
       "7          dating_year_late  39068.425750   8247     0\n",
       "3        acquisition_method  38901.493166   1947     0\n",
       "0           principal_maker  33223.926020   2429     0\n",
       "1  principal_or_first_maker  25979.397087   1754     0\n",
       "4   acquisition_credit_line  22325.852270   3710     0\n",
       "5             dating_period   2306.283311    491     0\n",
       "2          copyright_holder    194.111334     63     0"
      ]
     },
     "execution_count": 201,
     "metadata": {},
     "output_type": "execute_result"
    }
   ],
   "source": [
    "feature_importances.query('fold == 0').sort_values('gain',ascending=False)\n"
   ]
  },
  {
   "cell_type": "code",
   "execution_count": 202,
   "metadata": {},
   "outputs": [
    {
     "data": {
      "text/html": [
       "<div>\n",
       "<style scoped>\n",
       "    .dataframe tbody tr th:only-of-type {\n",
       "        vertical-align: middle;\n",
       "    }\n",
       "\n",
       "    .dataframe tbody tr th {\n",
       "        vertical-align: top;\n",
       "    }\n",
       "\n",
       "    .dataframe thead th {\n",
       "        text-align: right;\n",
       "    }\n",
       "</style>\n",
       "<table border=\"1\" class=\"dataframe\">\n",
       "  <thead>\n",
       "    <tr style=\"text-align: right;\">\n",
       "      <th></th>\n",
       "      <th>feature</th>\n",
       "      <th>gain</th>\n",
       "      <th>split</th>\n",
       "      <th>fold</th>\n",
       "    </tr>\n",
       "  </thead>\n",
       "  <tbody>\n",
       "    <tr>\n",
       "      <th>6</th>\n",
       "      <td>dating_year_early</td>\n",
       "      <td>43532.317859</td>\n",
       "      <td>10721</td>\n",
       "      <td>1</td>\n",
       "    </tr>\n",
       "    <tr>\n",
       "      <th>7</th>\n",
       "      <td>dating_year_late</td>\n",
       "      <td>43445.505784</td>\n",
       "      <td>11264</td>\n",
       "      <td>1</td>\n",
       "    </tr>\n",
       "    <tr>\n",
       "      <th>0</th>\n",
       "      <td>principal_maker</td>\n",
       "      <td>39770.158656</td>\n",
       "      <td>3250</td>\n",
       "      <td>1</td>\n",
       "    </tr>\n",
       "    <tr>\n",
       "      <th>3</th>\n",
       "      <td>acquisition_method</td>\n",
       "      <td>37920.978873</td>\n",
       "      <td>2518</td>\n",
       "      <td>1</td>\n",
       "    </tr>\n",
       "    <tr>\n",
       "      <th>1</th>\n",
       "      <td>principal_or_first_maker</td>\n",
       "      <td>26845.927680</td>\n",
       "      <td>2292</td>\n",
       "      <td>1</td>\n",
       "    </tr>\n",
       "    <tr>\n",
       "      <th>4</th>\n",
       "      <td>acquisition_credit_line</td>\n",
       "      <td>25319.982651</td>\n",
       "      <td>4850</td>\n",
       "      <td>1</td>\n",
       "    </tr>\n",
       "    <tr>\n",
       "      <th>5</th>\n",
       "      <td>dating_period</td>\n",
       "      <td>2030.067552</td>\n",
       "      <td>609</td>\n",
       "      <td>1</td>\n",
       "    </tr>\n",
       "    <tr>\n",
       "      <th>2</th>\n",
       "      <td>copyright_holder</td>\n",
       "      <td>259.546758</td>\n",
       "      <td>115</td>\n",
       "      <td>1</td>\n",
       "    </tr>\n",
       "  </tbody>\n",
       "</table>\n",
       "</div>"
      ],
      "text/plain": [
       "                    feature          gain  split  fold\n",
       "6         dating_year_early  43532.317859  10721     1\n",
       "7          dating_year_late  43445.505784  11264     1\n",
       "0           principal_maker  39770.158656   3250     1\n",
       "3        acquisition_method  37920.978873   2518     1\n",
       "1  principal_or_first_maker  26845.927680   2292     1\n",
       "4   acquisition_credit_line  25319.982651   4850     1\n",
       "5             dating_period   2030.067552    609     1\n",
       "2          copyright_holder    259.546758    115     1"
      ]
     },
     "execution_count": 202,
     "metadata": {},
     "output_type": "execute_result"
    }
   ],
   "source": [
    "feature_importances.query('fold == 1').sort_values('gain',ascending=False)"
   ]
  },
  {
   "cell_type": "code",
   "execution_count": 203,
   "metadata": {},
   "outputs": [
    {
     "data": {
      "text/html": [
       "<div>\n",
       "<style scoped>\n",
       "    .dataframe tbody tr th:only-of-type {\n",
       "        vertical-align: middle;\n",
       "    }\n",
       "\n",
       "    .dataframe tbody tr th {\n",
       "        vertical-align: top;\n",
       "    }\n",
       "\n",
       "    .dataframe thead th {\n",
       "        text-align: right;\n",
       "    }\n",
       "</style>\n",
       "<table border=\"1\" class=\"dataframe\">\n",
       "  <thead>\n",
       "    <tr style=\"text-align: right;\">\n",
       "      <th></th>\n",
       "      <th>feature</th>\n",
       "      <th>gain</th>\n",
       "      <th>split</th>\n",
       "      <th>fold</th>\n",
       "    </tr>\n",
       "  </thead>\n",
       "  <tbody>\n",
       "    <tr>\n",
       "      <th>7</th>\n",
       "      <td>dating_year_late</td>\n",
       "      <td>36920.165121</td>\n",
       "      <td>6614</td>\n",
       "      <td>2</td>\n",
       "    </tr>\n",
       "    <tr>\n",
       "      <th>3</th>\n",
       "      <td>acquisition_method</td>\n",
       "      <td>36231.686252</td>\n",
       "      <td>1502</td>\n",
       "      <td>2</td>\n",
       "    </tr>\n",
       "    <tr>\n",
       "      <th>6</th>\n",
       "      <td>dating_year_early</td>\n",
       "      <td>36083.248007</td>\n",
       "      <td>6391</td>\n",
       "      <td>2</td>\n",
       "    </tr>\n",
       "    <tr>\n",
       "      <th>0</th>\n",
       "      <td>principal_maker</td>\n",
       "      <td>32224.456346</td>\n",
       "      <td>1941</td>\n",
       "      <td>2</td>\n",
       "    </tr>\n",
       "    <tr>\n",
       "      <th>1</th>\n",
       "      <td>principal_or_first_maker</td>\n",
       "      <td>24245.080700</td>\n",
       "      <td>1400</td>\n",
       "      <td>2</td>\n",
       "    </tr>\n",
       "    <tr>\n",
       "      <th>4</th>\n",
       "      <td>acquisition_credit_line</td>\n",
       "      <td>21205.786463</td>\n",
       "      <td>3226</td>\n",
       "      <td>2</td>\n",
       "    </tr>\n",
       "    <tr>\n",
       "      <th>5</th>\n",
       "      <td>dating_period</td>\n",
       "      <td>1604.447027</td>\n",
       "      <td>348</td>\n",
       "      <td>2</td>\n",
       "    </tr>\n",
       "    <tr>\n",
       "      <th>2</th>\n",
       "      <td>copyright_holder</td>\n",
       "      <td>295.379847</td>\n",
       "      <td>61</td>\n",
       "      <td>2</td>\n",
       "    </tr>\n",
       "  </tbody>\n",
       "</table>\n",
       "</div>"
      ],
      "text/plain": [
       "                    feature          gain  split  fold\n",
       "7          dating_year_late  36920.165121   6614     2\n",
       "3        acquisition_method  36231.686252   1502     2\n",
       "6         dating_year_early  36083.248007   6391     2\n",
       "0           principal_maker  32224.456346   1941     2\n",
       "1  principal_or_first_maker  24245.080700   1400     2\n",
       "4   acquisition_credit_line  21205.786463   3226     2\n",
       "5             dating_period   1604.447027    348     2\n",
       "2          copyright_holder    295.379847     61     2"
      ]
     },
     "execution_count": 203,
     "metadata": {},
     "output_type": "execute_result"
    }
   ],
   "source": [
    "feature_importances.query('fold == 2').sort_values('gain',ascending=False)"
   ]
  },
  {
   "cell_type": "code",
   "execution_count": 204,
   "metadata": {},
   "outputs": [
    {
     "data": {
      "text/html": [
       "<div>\n",
       "<style scoped>\n",
       "    .dataframe tbody tr th:only-of-type {\n",
       "        vertical-align: middle;\n",
       "    }\n",
       "\n",
       "    .dataframe tbody tr th {\n",
       "        vertical-align: top;\n",
       "    }\n",
       "\n",
       "    .dataframe thead th {\n",
       "        text-align: right;\n",
       "    }\n",
       "</style>\n",
       "<table border=\"1\" class=\"dataframe\">\n",
       "  <thead>\n",
       "    <tr style=\"text-align: right;\">\n",
       "      <th></th>\n",
       "      <th>feature</th>\n",
       "      <th>gain</th>\n",
       "      <th>split</th>\n",
       "      <th>fold</th>\n",
       "    </tr>\n",
       "  </thead>\n",
       "  <tbody>\n",
       "    <tr>\n",
       "      <th>7</th>\n",
       "      <td>dating_year_late</td>\n",
       "      <td>46868.253318</td>\n",
       "      <td>12802</td>\n",
       "      <td>3</td>\n",
       "    </tr>\n",
       "    <tr>\n",
       "      <th>6</th>\n",
       "      <td>dating_year_early</td>\n",
       "      <td>46337.056075</td>\n",
       "      <td>12523</td>\n",
       "      <td>3</td>\n",
       "    </tr>\n",
       "    <tr>\n",
       "      <th>0</th>\n",
       "      <td>principal_maker</td>\n",
       "      <td>39795.071858</td>\n",
       "      <td>3690</td>\n",
       "      <td>3</td>\n",
       "    </tr>\n",
       "    <tr>\n",
       "      <th>3</th>\n",
       "      <td>acquisition_method</td>\n",
       "      <td>38410.736108</td>\n",
       "      <td>2909</td>\n",
       "      <td>3</td>\n",
       "    </tr>\n",
       "    <tr>\n",
       "      <th>1</th>\n",
       "      <td>principal_or_first_maker</td>\n",
       "      <td>27427.054100</td>\n",
       "      <td>2582</td>\n",
       "      <td>3</td>\n",
       "    </tr>\n",
       "    <tr>\n",
       "      <th>4</th>\n",
       "      <td>acquisition_credit_line</td>\n",
       "      <td>24575.474489</td>\n",
       "      <td>5222</td>\n",
       "      <td>3</td>\n",
       "    </tr>\n",
       "    <tr>\n",
       "      <th>5</th>\n",
       "      <td>dating_period</td>\n",
       "      <td>1806.289246</td>\n",
       "      <td>635</td>\n",
       "      <td>3</td>\n",
       "    </tr>\n",
       "    <tr>\n",
       "      <th>2</th>\n",
       "      <td>copyright_holder</td>\n",
       "      <td>283.161792</td>\n",
       "      <td>123</td>\n",
       "      <td>3</td>\n",
       "    </tr>\n",
       "  </tbody>\n",
       "</table>\n",
       "</div>"
      ],
      "text/plain": [
       "                    feature          gain  split  fold\n",
       "7          dating_year_late  46868.253318  12802     3\n",
       "6         dating_year_early  46337.056075  12523     3\n",
       "0           principal_maker  39795.071858   3690     3\n",
       "3        acquisition_method  38410.736108   2909     3\n",
       "1  principal_or_first_maker  27427.054100   2582     3\n",
       "4   acquisition_credit_line  24575.474489   5222     3\n",
       "5             dating_period   1806.289246    635     3\n",
       "2          copyright_holder    283.161792    123     3"
      ]
     },
     "execution_count": 204,
     "metadata": {},
     "output_type": "execute_result"
    }
   ],
   "source": [
    "feature_importances.query('fold == 3').sort_values('gain',ascending=False)"
   ]
  },
  {
   "cell_type": "code",
   "execution_count": 205,
   "metadata": {},
   "outputs": [
    {
     "data": {
      "text/html": [
       "<div>\n",
       "<style scoped>\n",
       "    .dataframe tbody tr th:only-of-type {\n",
       "        vertical-align: middle;\n",
       "    }\n",
       "\n",
       "    .dataframe tbody tr th {\n",
       "        vertical-align: top;\n",
       "    }\n",
       "\n",
       "    .dataframe thead th {\n",
       "        text-align: right;\n",
       "    }\n",
       "</style>\n",
       "<table border=\"1\" class=\"dataframe\">\n",
       "  <thead>\n",
       "    <tr style=\"text-align: right;\">\n",
       "      <th></th>\n",
       "      <th>feature</th>\n",
       "      <th>gain</th>\n",
       "      <th>split</th>\n",
       "      <th>fold</th>\n",
       "    </tr>\n",
       "  </thead>\n",
       "  <tbody>\n",
       "    <tr>\n",
       "      <th>7</th>\n",
       "      <td>dating_year_late</td>\n",
       "      <td>38352.088600</td>\n",
       "      <td>6987</td>\n",
       "      <td>4</td>\n",
       "    </tr>\n",
       "    <tr>\n",
       "      <th>3</th>\n",
       "      <td>acquisition_method</td>\n",
       "      <td>36346.734240</td>\n",
       "      <td>1624</td>\n",
       "      <td>4</td>\n",
       "    </tr>\n",
       "    <tr>\n",
       "      <th>6</th>\n",
       "      <td>dating_year_early</td>\n",
       "      <td>35172.149758</td>\n",
       "      <td>6659</td>\n",
       "      <td>4</td>\n",
       "    </tr>\n",
       "    <tr>\n",
       "      <th>0</th>\n",
       "      <td>principal_maker</td>\n",
       "      <td>34814.720287</td>\n",
       "      <td>1944</td>\n",
       "      <td>4</td>\n",
       "    </tr>\n",
       "    <tr>\n",
       "      <th>1</th>\n",
       "      <td>principal_or_first_maker</td>\n",
       "      <td>23932.430841</td>\n",
       "      <td>1513</td>\n",
       "      <td>4</td>\n",
       "    </tr>\n",
       "    <tr>\n",
       "      <th>4</th>\n",
       "      <td>acquisition_credit_line</td>\n",
       "      <td>23244.209306</td>\n",
       "      <td>3270</td>\n",
       "      <td>4</td>\n",
       "    </tr>\n",
       "    <tr>\n",
       "      <th>5</th>\n",
       "      <td>dating_period</td>\n",
       "      <td>1832.012379</td>\n",
       "      <td>385</td>\n",
       "      <td>4</td>\n",
       "    </tr>\n",
       "    <tr>\n",
       "      <th>2</th>\n",
       "      <td>copyright_holder</td>\n",
       "      <td>235.670375</td>\n",
       "      <td>62</td>\n",
       "      <td>4</td>\n",
       "    </tr>\n",
       "  </tbody>\n",
       "</table>\n",
       "</div>"
      ],
      "text/plain": [
       "                    feature          gain  split  fold\n",
       "7          dating_year_late  38352.088600   6987     4\n",
       "3        acquisition_method  36346.734240   1624     4\n",
       "6         dating_year_early  35172.149758   6659     4\n",
       "0           principal_maker  34814.720287   1944     4\n",
       "1  principal_or_first_maker  23932.430841   1513     4\n",
       "4   acquisition_credit_line  23244.209306   3270     4\n",
       "5             dating_period   1832.012379    385     4\n",
       "2          copyright_holder    235.670375     62     4"
      ]
     },
     "execution_count": 205,
     "metadata": {},
     "output_type": "execute_result"
    }
   ],
   "source": [
    "feature_importances.query('fold == 4').sort_values('gain',ascending=False)"
   ]
  },
  {
   "cell_type": "code",
   "execution_count": 171,
   "metadata": {},
   "outputs": [],
   "source": [
    "# 特徴量重要度を棒グラフでプロットする関数 \n",
    "def plot_feature_importance(df): \n",
    "    n_features = len(df)                              # 特徴量数(説明変数の個数) \n",
    "    df_plot = df.sort_values('gain')            # df_importanceをプロット用に特徴量重要度を昇順ソート \n",
    "    f_importance_plot = df_plot['gain'].values  # 特徴量重要度の取得 \n",
    "    plt.barh(range(n_features), f_importance_plot, align='center') \n",
    "    cols_plot = df_plot['feature'].values             # 特徴量の取得 \n",
    "    plt.rcParams[\"font.size\"] = 6\n",
    "    plt.yticks(np.arange(n_features), cols_plot)      # x軸,y軸の値の設定\n",
    "    plt.xlabel('Feature importance')                  # x軸のタイトル\n",
    "    plt.ylabel('Feature')  # y軸のタイトル\n",
    "    plt.tight_layout()\n",
    "    figsize=(12, 8)\n",
    "plt.show()"
   ]
  },
  {
   "cell_type": "code",
   "execution_count": 185,
   "metadata": {},
   "outputs": [
    {
     "data": {
      "image/png": "[encoded data removed]",
      "text/plain": [
       "<Figure size 432x288 with 1 Axes>"
      ]
     },
     "metadata": {
      "needs_background": "light"
     },
     "output_type": "display_data"
    }
   ],
   "source": [
    "# 特徴量重要度の可視化\n",
    "n_display = 16 # 上位10個に制限\n",
    "plot_feature_importance(df.iloc[:n_display,:])"
   ]
  },
  {
   "cell_type": "code",
   "execution_count": 186,
   "metadata": {},
   "outputs": [
    {
     "data": {
      "image/png": "[encoded data removed]",
      "text/plain": [
       "<Figure size 432x288 with 1 Axes>"
      ]
     },
     "metadata": {
      "needs_background": "light"
     },
     "output_type": "display_data"
    }
   ],
   "source": [
    "# 特徴量重要度の可視化\n",
    "n_display = 25 # 上位10個に制限\n",
    "plot_feature_importance(df.iloc[:n_display,:])"
   ]
  },
  {
   "cell_type": "code",
   "execution_count": 183,
   "metadata": {},
   "outputs": [
    {
     "ename": "NameError",
     "evalue": "name 'model' is not defined",
     "output_type": "error",
     "traceback": [
      "\u001b[0;31m---------------------------------------------------------------------------\u001b[0m",
      "\u001b[0;31mNameError\u001b[0m                                 Traceback (most recent call last)",
      "\u001b[0;32m<ipython-input-183-4b07993cedb7>\u001b[0m in \u001b[0;36m<module>\u001b[0;34m\u001b[0m\n\u001b[1;32m      1\u001b[0m \u001b[0;31m# 可視化（modelはlightgbmで学習させたモデル）\u001b[0m\u001b[0;34m\u001b[0m\u001b[0;34m\u001b[0m\u001b[0;34m\u001b[0m\u001b[0m\n\u001b[0;32m----> 2\u001b[0;31m \u001b[0mlgb\u001b[0m\u001b[0;34m.\u001b[0m\u001b[0mplot_importance\u001b[0m\u001b[0;34m(\u001b[0m\u001b[0mmodel\u001b[0m\u001b[0;34m,\u001b[0m \u001b[0mfigsize\u001b[0m\u001b[0;34m=\u001b[0m\u001b[0;34m(\u001b[0m\u001b[0;36m12\u001b[0m\u001b[0;34m,\u001b[0m \u001b[0;36m8\u001b[0m\u001b[0;34m)\u001b[0m\u001b[0;34m)\u001b[0m\u001b[0;34m\u001b[0m\u001b[0;34m\u001b[0m\u001b[0m\n\u001b[0m\u001b[1;32m      3\u001b[0m \u001b[0mplt\u001b[0m\u001b[0;34m.\u001b[0m\u001b[0mshow\u001b[0m\u001b[0;34m(\u001b[0m\u001b[0;34m)\u001b[0m\u001b[0;34m\u001b[0m\u001b[0;34m\u001b[0m\u001b[0m\n",
      "\u001b[0;31mNameError\u001b[0m: name 'model' is not defined"
     ]
    }
   ],
   "source": [
    "# 可視化（modelはlightgbmで学習させたモデル）\n",
    "lgb.plot_importance(model, figsize=(12, 8))\n",
    "plt.show()"
   ]
  },
  {
   "cell_type": "code",
   "execution_count": null,
   "metadata": {},
   "outputs": [],
   "source": []
  },
  {
   "cell_type": "code",
   "execution_count": null,
   "metadata": {},
   "outputs": [],
   "source": []
  }
 ],
 "metadata": {
  "kernelspec": {
   "display_name": "Python 3",
   "language": "python",
   "name": "python3"
  },
  "language_info": {
   "codemirror_mode": {
    "name": "ipython",
    "version": 3
   },
   "file_extension": ".py",
   "mimetype": "text/x-python",
   "name": "python",
   "nbconvert_exporter": "python",
   "pygments_lexer": "ipython3",
   "version": "3.7.6"
  }
 },
 "nbformat": 4,
 "nbformat_minor": 4
}
