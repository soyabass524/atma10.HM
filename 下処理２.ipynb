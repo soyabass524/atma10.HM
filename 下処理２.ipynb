{
 "cells": [
  {
   "cell_type": "code",
   "execution_count": 2,
   "metadata": {},
   "outputs": [],
   "source": [
    "import numpy as np\n",
    "import pandas as pd\n",
    "import matplotlib.pyplot as plt\n",
    "import seaborn as sns\n",
    "%matplotlib inline \n",
    "\n",
    "from scipy import stats\n",
    "from scipy.stats import rankdata, norm\n",
    "\n",
    "from sklearn.preprocessing import LabelEncoder, OneHotEncoder, StandardScaler, MinMaxScaler, RobustScaler\n",
    "from sklearn.model_selection import train_test_split, KFold"
   ]
  },
  {
   "cell_type": "code",
   "execution_count": 3,
   "metadata": {},
   "outputs": [
    {
     "data": {
      "text/plain": [
       "(('ENGLISH', 'en', 97, 864.0),\n",
       " ('Unknown', 'un', 0, 0.0),\n",
       " ('Unknown', 'un', 0, 0.0))"
      ]
     },
     "execution_count": 3,
     "metadata": {},
     "output_type": "execute_result"
    }
   ],
   "source": [
    "import pycld2 as cld2\n",
    "\n",
    "\n",
    "isReliable, textBytesFound, detail = cld2.detect(\"Arcadian Landscape with Shepherds and Cattle\")\n",
    "detail"
   ]
  },
  {
   "cell_type": "code",
   "execution_count": 13,
   "metadata": {},
   "outputs": [],
   "source": [
    "import pandas  as pd\n",
    "train = pd.read_csv('train.csv')"
   ]
  },
  {
   "cell_type": "code",
   "execution_count": 19,
   "metadata": {},
   "outputs": [
    {
     "data": {
      "text/html": [
       "<div>\n",
       "<style scoped>\n",
       "    .dataframe tbody tr th:only-of-type {\n",
       "        vertical-align: middle;\n",
       "    }\n",
       "\n",
       "    .dataframe tbody tr th {\n",
       "        vertical-align: top;\n",
       "    }\n",
       "\n",
       "    .dataframe thead th {\n",
       "        text-align: right;\n",
       "    }\n",
       "</style>\n",
       "<table border=\"1\" class=\"dataframe\">\n",
       "  <thead>\n",
       "    <tr style=\"text-align: right;\">\n",
       "      <th></th>\n",
       "      <th>title</th>\n",
       "      <th>title_lang</th>\n",
       "      <th>likes</th>\n",
       "    </tr>\n",
       "  </thead>\n",
       "  <tbody>\n",
       "    <tr>\n",
       "      <th>0</th>\n",
       "      <td>The Avenue of Birches</td>\n",
       "      <td>en</td>\n",
       "      <td>48</td>\n",
       "    </tr>\n",
       "    <tr>\n",
       "      <th>1</th>\n",
       "      <td>Struik in bloei</td>\n",
       "      <td>un</td>\n",
       "      <td>2</td>\n",
       "    </tr>\n",
       "    <tr>\n",
       "      <th>2</th>\n",
       "      <td>Portret van een vrouw</td>\n",
       "      <td>nl</td>\n",
       "      <td>5</td>\n",
       "    </tr>\n",
       "    <tr>\n",
       "      <th>3</th>\n",
       "      <td>A St Bernard Dog</td>\n",
       "      <td>un</td>\n",
       "      <td>100</td>\n",
       "    </tr>\n",
       "    <tr>\n",
       "      <th>4</th>\n",
       "      <td>Woelige zee met zeilschepen</td>\n",
       "      <td>nl</td>\n",
       "      <td>7</td>\n",
       "    </tr>\n",
       "    <tr>\n",
       "      <th>...</th>\n",
       "      <td>...</td>\n",
       "      <td>...</td>\n",
       "      <td>...</td>\n",
       "    </tr>\n",
       "    <tr>\n",
       "      <th>12021</th>\n",
       "      <td>De schilder H.W. Mesdag voor een doek</td>\n",
       "      <td>nl</td>\n",
       "      <td>4</td>\n",
       "    </tr>\n",
       "    <tr>\n",
       "      <th>12022</th>\n",
       "      <td>Kaart van de streek tussen Mannheim en Landau,...</td>\n",
       "      <td>af</td>\n",
       "      <td>0</td>\n",
       "    </tr>\n",
       "    <tr>\n",
       "      <th>12023</th>\n",
       "      <td>Storm op het IJ aan het Blauwhoofd van Amsterd...</td>\n",
       "      <td>nl</td>\n",
       "      <td>0</td>\n",
       "    </tr>\n",
       "    <tr>\n",
       "      <th>12024</th>\n",
       "      <td>Het rad van fortuin, ca. 1689</td>\n",
       "      <td>un</td>\n",
       "      <td>14</td>\n",
       "    </tr>\n",
       "    <tr>\n",
       "      <th>12025</th>\n",
       "      <td>The Adoration of the Shepherds</td>\n",
       "      <td>en</td>\n",
       "      <td>171</td>\n",
       "    </tr>\n",
       "  </tbody>\n",
       "</table>\n",
       "<p>12026 rows × 3 columns</p>\n",
       "</div>"
      ],
      "text/plain": [
       "                                                   title title_lang  likes\n",
       "0                                  The Avenue of Birches         en     48\n",
       "1                                        Struik in bloei         un      2\n",
       "2                                  Portret van een vrouw         nl      5\n",
       "3                                       A St Bernard Dog         un    100\n",
       "4                            Woelige zee met zeilschepen         nl      7\n",
       "...                                                  ...        ...    ...\n",
       "12021              De schilder H.W. Mesdag voor een doek         nl      4\n",
       "12022  Kaart van de streek tussen Mannheim en Landau,...         af      0\n",
       "12023  Storm op het IJ aan het Blauwhoofd van Amsterd...         nl      0\n",
       "12024                      Het rad van fortuin, ca. 1689         un     14\n",
       "12025                     The Adoration of the Shepherds         en    171\n",
       "\n",
       "[12026 rows x 3 columns]"
      ]
     },
     "execution_count": 19,
     "metadata": {},
     "output_type": "execute_result"
    }
   ],
   "source": [
    "train[\"title_lang\"] = train[\"title\"].fillna(\"\").map(lambda x: cld2.detect(x)[2][0][1])\n",
    "train[[\"title\", \"title_lang\", \"likes\"]]"
   ]
  },
  {
   "cell_type": "code",
   "execution_count": 20,
   "metadata": {},
   "outputs": [
    {
     "data": {
      "text/plain": [
       "0        en\n",
       "1        un\n",
       "2        nl\n",
       "3        un\n",
       "4        nl\n",
       "         ..\n",
       "12021    nl\n",
       "12022    af\n",
       "12023    nl\n",
       "12024    un\n",
       "12025    en\n",
       "Name: title_lang, Length: 12026, dtype: object"
      ]
     },
     "execution_count": 20,
     "metadata": {},
     "output_type": "execute_result"
    }
   ],
   "source": [
    "train['title_lang']"
   ]
  },
  {
   "cell_type": "code",
   "execution_count": 22,
   "metadata": {},
   "outputs": [],
   "source": [
    "df1 = train"
   ]
  },
  {
   "cell_type": "code",
   "execution_count": 23,
   "metadata": {},
   "outputs": [],
   "source": [
    "df1.to_csv('train_title_lang.csv')"
   ]
  },
  {
   "cell_type": "code",
   "execution_count": 35,
   "metadata": {},
   "outputs": [],
   "source": [
    "\n",
    "import pandas as pd\n",
    "import numpy as np\n",
    "import torch\n",
    "import transformers\n",
    "\n",
    "from transformers import BertTokenizer\n",
    "from tqdm import tqdm\n",
    "tqdm.pandas()\n",
    "\n",
    "\n",
    "class BertSequenceVectorizer:\n",
    "    def __init__(self):\n",
    "        self.device = 'cuda' if torch.cuda.is_available() else 'cpu'\n",
    "        self.model_name = 'bert-base-uncased'\n",
    "        self.tokenizer = BertTokenizer.from_pretrained(self.model_name)\n",
    "        self.bert_model = transformers.BertModel.from_pretrained(self.model_name)\n",
    "        self.bert_model = self.bert_model.to(self.device)\n",
    "        self.max_len = 128\n",
    "\n",
    "\n",
    "    def vectorize(self, sentence : str) -> np.array:\n",
    "        inp = self.tokenizer.encode(sentence)\n",
    "        len_inp = len(inp)\n",
    "\n",
    "        if len_inp >= self.max_len:\n",
    "            inputs = inp[:self.max_len]\n",
    "            masks = [1] * self.max_len\n",
    "        else:\n",
    "            inputs = inp + [0] * (self.max_len - len_inp)\n",
    "            masks = [1] * len_inp + [0] * (self.max_len - len_inp)\n",
    "\n",
    "        inputs_tensor = torch.tensor([inputs], dtype=torch.long).to(self.device)\n",
    "        masks_tensor = torch.tensor([masks], dtype=torch.long).to(self.device)\n",
    "\n",
    "        bert_out = self.bert_model(inputs_tensor, masks_tensor)\n",
    "        seq_out, pooled_out = bert_out['last_hidden_state'], bert_out['pooler_output']\n",
    "\n",
    "        if torch.cuda.is_available():    \n",
    "            return seq_out[0][0].cpu().detach().numpy() # 0番目は [CLS] token, 768 dim の文章特徴量\n",
    "        else:\n",
    "            return seq_out[0][0].detach().numpy()"
   ]
  },
  {
   "cell_type": "code",
   "execution_count": 36,
   "metadata": {},
   "outputs": [
    {
     "name": "stderr",
     "output_type": "stream",
     "text": [
      " 43%|████▎     | 5116/12026 [58:25<1:17:08,  1.49it/s]Token indices sequence length is longer than the specified maximum sequence length for this model (544 > 512). Running this sequence through the model will result in indexing errors\n",
      "100%|██████████| 12026/12026 [2:15:37<00:00,  1.48it/s] \n"
     ]
    },
    {
     "data": {
      "text/html": [
       "<div>\n",
       "<style scoped>\n",
       "    .dataframe tbody tr th:only-of-type {\n",
       "        vertical-align: middle;\n",
       "    }\n",
       "\n",
       "    .dataframe tbody tr th {\n",
       "        vertical-align: top;\n",
       "    }\n",
       "\n",
       "    .dataframe thead th {\n",
       "        text-align: right;\n",
       "    }\n",
       "</style>\n",
       "<table border=\"1\" class=\"dataframe\">\n",
       "  <thead>\n",
       "    <tr style=\"text-align: right;\">\n",
       "      <th></th>\n",
       "      <th>object_id</th>\n",
       "      <th>description</th>\n",
       "      <th>description_feature</th>\n",
       "    </tr>\n",
       "  </thead>\n",
       "  <tbody>\n",
       "    <tr>\n",
       "      <th>0</th>\n",
       "      <td>0011d6be41612ec9eae3</td>\n",
       "      <td>NaN</td>\n",
       "      <td>[-0.04250159, 0.036861505, 0.039393608, 0.0547...</td>\n",
       "    </tr>\n",
       "    <tr>\n",
       "      <th>1</th>\n",
       "      <td>0012765f7a97ccc3e9e9</td>\n",
       "      <td>NaN</td>\n",
       "      <td>[-0.04250159, 0.036861505, 0.039393608, 0.0547...</td>\n",
       "    </tr>\n",
       "    <tr>\n",
       "      <th>2</th>\n",
       "      <td>0017be8caa87206532cb</td>\n",
       "      <td>Portret van eenvrouw, zittend naast een tafel.</td>\n",
       "      <td>[-0.63844216, 0.12233404, 0.16228917, -0.46431...</td>\n",
       "    </tr>\n",
       "    <tr>\n",
       "      <th>3</th>\n",
       "      <td>00181d86ff1a7b95864e</td>\n",
       "      <td>Een sint-bernardshond, staand in een landschap...</td>\n",
       "      <td>[-0.6219215, -0.25778952, 0.13090691, -0.17220...</td>\n",
       "    </tr>\n",
       "    <tr>\n",
       "      <th>4</th>\n",
       "      <td>001c52ae28ec106d9cd5</td>\n",
       "      <td>Woelige zee met zeilschepen.</td>\n",
       "      <td>[-0.82783353, 0.09303975, -0.10044706, -0.4505...</td>\n",
       "    </tr>\n",
       "  </tbody>\n",
       "</table>\n",
       "</div>"
      ],
      "text/plain": [
       "              object_id                                        description  \\\n",
       "0  0011d6be41612ec9eae3                                                NaN   \n",
       "1  0012765f7a97ccc3e9e9                                                NaN   \n",
       "2  0017be8caa87206532cb     Portret van eenvrouw, zittend naast een tafel.   \n",
       "3  00181d86ff1a7b95864e  Een sint-bernardshond, staand in een landschap...   \n",
       "4  001c52ae28ec106d9cd5                       Woelige zee met zeilschepen.   \n",
       "\n",
       "                                 description_feature  \n",
       "0  [-0.04250159, 0.036861505, 0.039393608, 0.0547...  \n",
       "1  [-0.04250159, 0.036861505, 0.039393608, 0.0547...  \n",
       "2  [-0.63844216, 0.12233404, 0.16228917, -0.46431...  \n",
       "3  [-0.6219215, -0.25778952, 0.13090691, -0.17220...  \n",
       "4  [-0.82783353, 0.09303975, -0.10044706, -0.4505...  "
      ]
     },
     "execution_count": 36,
     "metadata": {},
     "output_type": "execute_result"
    }
   ],
   "source": [
    "BSV = BertSequenceVectorizer() # インスタンス化します\n",
    "\n",
    "train = pd.read_csv('train.csv')\n",
    "train['description'] = train['description'].fillna(\"NaN\") # null は代わりのもので埋めます\n",
    "train['description_feature'] = train['description'].progress_apply(lambda x: BSV.vectorize(x))\n",
    "train[['object_id', 'description', 'description_feature']].head()"
   ]
  },
  {
   "cell_type": "code",
   "execution_count": null,
   "metadata": {},
   "outputs": [],
   "source": [
    "train.to_csv(\"train_BEAT.csv\",float_format='%.18f')"
   ]
  },
  {
   "cell_type": "code",
   "execution_count": null,
   "metadata": {},
   "outputs": [],
   "source": [
    "train = pd.read_csv(\"train_BEAT.csv\")"
   ]
  },
  {
   "cell_type": "code",
   "execution_count": 12,
   "metadata": {},
   "outputs": [],
   "source": [
    "def create_input_array_pca(input_df):\n",
    "    features = []\n",
    "    for array in input_df['description_feature']:\n",
    "        features.append(array)\n",
    "    return pd.DataFrame(features).values.astype(np.float32)"
   ]
  },
  {
   "cell_type": "code",
   "execution_count": null,
   "metadata": {},
   "outputs": [],
   "source": [
    "x = create_input_array_pca(description_feature_df)\n",
    "x.shape, x.dtype"
   ]
  },
  {
   "cell_type": "code",
   "execution_count": 37,
   "metadata": {},
   "outputs": [],
   "source": [
    "from sklearn.decomposition import PCA"
   ]
  },
  {
   "cell_type": "code",
   "execution_count": 38,
   "metadata": {},
   "outputs": [],
   "source": [
    "def result_description_pca(N):\n",
    "    pca = PCA(n_components=N).fit(x)\n",
    "    transformed = pca.transform(x)\n",
    "    for n in range(N):\n",
    "        print(f'第 {n+1} 主成分：{pca.explained_variance_ratio_[n]}')\n",
    "    return pd.DataFrame(transformed)"
   ]
  },
  {
   "cell_type": "code",
   "execution_count": null,
   "metadata": {},
   "outputs": [],
   "source": [
    "result_feature = result_description_pca(N=2)\n",
    "plt.scatter(result_feature[0], result_feature[1]);"
   ]
  },
  {
   "cell_type": "code",
   "execution_count": 51,
   "metadata": {},
   "outputs": [
    {
     "data": {
      "image/png": "[encoded data removed]",
      "text/plain": [
       "<Figure size 360x360 with 6 Axes>"
      ]
     },
     "metadata": {
      "needs_background": "light"
     },
     "output_type": "display_data"
    }
   ],
   "source": [
    "sns.pairplot(result_feature);"
   ]
  },
  {
   "cell_type": "code",
   "execution_count": 53,
   "metadata": {},
   "outputs": [],
   "source": [
    "result_feature.columns = [\"PCA1\",\"PCA2\"]"
   ]
  },
  {
   "cell_type": "code",
   "execution_count": 54,
   "metadata": {},
   "outputs": [
    {
     "data": {
      "text/html": [
       "<div>\n",
       "<style scoped>\n",
       "    .dataframe tbody tr th:only-of-type {\n",
       "        vertical-align: middle;\n",
       "    }\n",
       "\n",
       "    .dataframe tbody tr th {\n",
       "        vertical-align: top;\n",
       "    }\n",
       "\n",
       "    .dataframe thead th {\n",
       "        text-align: right;\n",
       "    }\n",
       "</style>\n",
       "<table border=\"1\" class=\"dataframe\">\n",
       "  <thead>\n",
       "    <tr style=\"text-align: right;\">\n",
       "      <th></th>\n",
       "      <th>PCA1</th>\n",
       "      <th>PCA2</th>\n",
       "    </tr>\n",
       "  </thead>\n",
       "  <tbody>\n",
       "    <tr>\n",
       "      <th>0</th>\n",
       "      <td>8.335306</td>\n",
       "      <td>0.610749</td>\n",
       "    </tr>\n",
       "    <tr>\n",
       "      <th>1</th>\n",
       "      <td>8.335306</td>\n",
       "      <td>0.610749</td>\n",
       "    </tr>\n",
       "    <tr>\n",
       "      <th>2</th>\n",
       "      <td>-1.475386</td>\n",
       "      <td>-2.416383</td>\n",
       "    </tr>\n",
       "    <tr>\n",
       "      <th>3</th>\n",
       "      <td>1.409902</td>\n",
       "      <td>-1.233963</td>\n",
       "    </tr>\n",
       "    <tr>\n",
       "      <th>4</th>\n",
       "      <td>-1.516180</td>\n",
       "      <td>-2.953954</td>\n",
       "    </tr>\n",
       "    <tr>\n",
       "      <th>...</th>\n",
       "      <td>...</td>\n",
       "      <td>...</td>\n",
       "    </tr>\n",
       "    <tr>\n",
       "      <th>12021</th>\n",
       "      <td>8.335306</td>\n",
       "      <td>0.610749</td>\n",
       "    </tr>\n",
       "    <tr>\n",
       "      <th>12022</th>\n",
       "      <td>-4.618852</td>\n",
       "      <td>-1.087324</td>\n",
       "    </tr>\n",
       "    <tr>\n",
       "      <th>12023</th>\n",
       "      <td>-2.262537</td>\n",
       "      <td>-1.980101</td>\n",
       "    </tr>\n",
       "    <tr>\n",
       "      <th>12024</th>\n",
       "      <td>-5.922932</td>\n",
       "      <td>9.162234</td>\n",
       "    </tr>\n",
       "    <tr>\n",
       "      <th>12025</th>\n",
       "      <td>-3.839447</td>\n",
       "      <td>-1.697013</td>\n",
       "    </tr>\n",
       "  </tbody>\n",
       "</table>\n",
       "<p>12026 rows × 2 columns</p>\n",
       "</div>"
      ],
      "text/plain": [
       "           PCA1      PCA2\n",
       "0      8.335306  0.610749\n",
       "1      8.335306  0.610749\n",
       "2     -1.475386 -2.416383\n",
       "3      1.409902 -1.233963\n",
       "4     -1.516180 -2.953954\n",
       "...         ...       ...\n",
       "12021  8.335306  0.610749\n",
       "12022 -4.618852 -1.087324\n",
       "12023 -2.262537 -1.980101\n",
       "12024 -5.922932  9.162234\n",
       "12025 -3.839447 -1.697013\n",
       "\n",
       "[12026 rows x 2 columns]"
      ]
     },
     "execution_count": 54,
     "metadata": {},
     "output_type": "execute_result"
    }
   ],
   "source": [
    "result_feature"
   ]
  },
  {
   "cell_type": "code",
   "execution_count": 63,
   "metadata": {},
   "outputs": [],
   "source": [
    "df2 = pd.concat([description_feature_df,result_feature],axis = 1)"
   ]
  },
  {
   "cell_type": "code",
   "execution_count": 64,
   "metadata": {},
   "outputs": [],
   "source": [
    "df2.to_csv('train_PCA.csv')"
   ]
  },
  {
   "cell_type": "code",
   "execution_count": 65,
   "metadata": {},
   "outputs": [],
   "source": [
    "from sklearn.decomposition import TruncatedSVD"
   ]
  },
  {
   "cell_type": "code",
   "execution_count": 66,
   "metadata": {},
   "outputs": [],
   "source": [
    "def result_description_svd(N):\n",
    "    svd = TruncatedSVD(n_components=N).fit(x)\n",
    "    transformed = svd.transform(x)\n",
    "    for n in range(N):\n",
    "        print(f'第 {n+1} 成分：{svd.explained_variance_ratio_[n]}')\n",
    "    return pd.DataFrame(transformed)\n"
   ]
  },
  {
   "cell_type": "code",
   "execution_count": 70,
   "metadata": {},
   "outputs": [
    {
     "name": "stdout",
     "output_type": "stream",
     "text": [
      "第 1 成分：0.08421853184700012\n",
      "第 2 成分：0.5636075139045715\n"
     ]
    },
    {
     "data": {
      "image/png": "[encoded data removed]",
      "text/plain": [
       "<Figure size 432x288 with 1 Axes>"
      ]
     },
     "metadata": {
      "needs_background": "light"
     },
     "output_type": "display_data"
    }
   ],
   "source": [
    "result_feature = result_description_svd(N=2)\n",
    "plt.scatter(result_feature[0], result_feature[1]);"
   ]
  },
  {
   "cell_type": "code",
   "execution_count": 68,
   "metadata": {},
   "outputs": [
    {
     "data": {
      "image/png": "[encoded data removed]",
      "text/plain": [
       "<Figure size 360x360 with 6 Axes>"
      ]
     },
     "metadata": {
      "needs_background": "light"
     },
     "output_type": "display_data"
    }
   ],
   "source": [
    "sns.pairplot(result_feature);"
   ]
  },
  {
   "cell_type": "code",
   "execution_count": 73,
   "metadata": {},
   "outputs": [],
   "source": [
    "result_feature.columns = [\"SVD1\",\"SVD2\"]"
   ]
  },
  {
   "cell_type": "code",
   "execution_count": 75,
   "metadata": {},
   "outputs": [],
   "source": [
    "df3 = pd.concat([description_feature_df,result_feature],axis = 1)"
   ]
  },
  {
   "cell_type": "code",
   "execution_count": null,
   "metadata": {},
   "outputs": [],
   "source": []
  }
 ],
 "metadata": {
  "kernelspec": {
   "display_name": "Python 3",
   "language": "python",
   "name": "python3"
  },
  "language_info": {
   "codemirror_mode": {
    "name": "ipython",
    "version": 3
   },
   "file_extension": ".py",
   "mimetype": "text/x-python",
   "name": "python",
   "nbconvert_exporter": "python",
   "pygments_lexer": "ipython3",
   "version": "3.7.6"
  }
 },
 "nbformat": 4,
 "nbformat_minor": 4
}
